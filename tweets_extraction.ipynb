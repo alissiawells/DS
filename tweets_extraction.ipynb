{
 "cells": [
  {
   "cell_type": "markdown",
   "metadata": {},
   "source": [
    "## User's tweets extraction \n",
    "#### * limit of Twitter Api: no more than 3200 tweets per userID"
   ]
  },
  {
   "cell_type": "code",
   "execution_count": 44,
   "metadata": {},
   "outputs": [],
   "source": [
    "import tweepy           \n",
    "import csv\n",
    "import codecs\n",
    "from os.path import join"
   ]
  },
  {
   "cell_type": "code",
   "execution_count": 2,
   "metadata": {},
   "outputs": [],
   "source": [
    "# Consume:\n",
    "consumer_key = ''\n",
    "consumer_secret = ''\n",
    "\n",
    "# Access:\n",
    "access_key = ''\n",
    "access_secret = ''"
   ]
  },
  {
   "cell_type": "code",
   "execution_count": 43,
   "metadata": {
    "scrolled": false
   },
    },
   ],
   "source": [
    "def get_all_tweets(screen_name):\n",
    "\n",
    "    auth = tweepy.OAuthHandler(consumer_key, consumer_secret)\n",
    "    auth.set_access_token(access_key, access_secret)\n",
    "    api = tweepy.API(auth)\n",
    "    \n",
    "    alltweets = []\n",
    "    new_tweets = api.user_timeline(screen_name = screen_name, count=200, include_rts = False, tweet_mode=\"extended\") #200 - max for one iteration\n",
    "    alltweets.extend(new_tweets)\n",
    "    oldest = alltweets[-1].id - 1\n",
    "\n",
    "    while len(new_tweets) > 0:\n",
    "        new_tweets = api.user_timeline(screen_name = screen_name, count=200, include_rts = False, tweet_mode=\"extended\", max_id=oldest)\n",
    "        alltweets.extend(new_tweets)\n",
    "        oldest = alltweets[-1].id - 1\n",
    "        print(\"%s tweets downloaded\" % (len(alltweets)))\n",
    "    \n",
    "    tweets = [tweet.full_text for tweet in alltweets] #transform the tweepy tweets into csv-file\n",
    "    username = [screen_name]*len(tweets)\n",
    "    output = list(zip(username, tweets))\n",
    "    with codecs.open(join('data/', '%s.csv' % (screen_name)), 'w', encoding='utf-8') as f:\n",
    "        writer = csv.writer(f)\n",
    "        writer.writerow(('Username', 'Tweets'))\n",
    "        for i in output:\n",
    "            writer.writerow(i)\n",
    "    print(\"tweets by %s are written\" % (screen_name))\n",
    "\n",
    "if __name__ == '__main__':\n",
    "    with codecs.open('authors.txt', 'r', encoding='utf-8') as f:\n",
    "        lines = f.readlines()\n",
    "    for username in lines:\n",
    "        get_all_tweets(screen_name=username.strip()) # add @userID"
   ]
  },
  {
   "cell_type": "code",
   "execution_count": null,
   "metadata": {},
   "outputs": [],
   "source": []
  },
  {
   "cell_type": "code",
   "execution_count": null,
   "metadata": {},
   "outputs": [],
   "source": []
  }
 ],
 "metadata": {
  "kernelspec": {
   "display_name": "Python 3",
   "language": "python",
   "name": "python3"
  },
  "language_info": {
   "codemirror_mode": {
    "name": "ipython",
    "version": 3
   },
   "file_extension": ".py",
   "mimetype": "text/x-python",
   "name": "python",
   "nbconvert_exporter": "python",
   "pygments_lexer": "ipython3",
   "version": "3.5.2"
  }
 },
 "nbformat": 4,
 "nbformat_minor": 1
}
