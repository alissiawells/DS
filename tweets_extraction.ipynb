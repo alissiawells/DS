{
 "metadata": {
  "name": "",
  "signature": "sha256:94538405f7d4b02d59d058b30b7e416b1418ef81e692e52604364d76d683330c"
 },
 "nbformat": 3,
 "nbformat_minor": 0,
 "worksheets": [
  {
   "cells": [
    {
     "cell_type": "markdown",
     "metadata": {},
     "source": [
      "## User's tweets extraction \n",
      "#### * Twitter Api has some limitations on the number of requests: you can get around 3000 tweets per userID"
     ]
    },
    {
     "cell_type": "code",
     "collapsed": false,
     "input": [
      "import tweepy           \n",
      "import pandas as pd     \n",
      "import numpy as np      \n",
      "import csv\n",
      "import re\n",
      "from IPython.display import display\n",
      "import matplotlib.pyplot as plt\n",
      "import seaborn as sns\n",
      "get_ipython().magic('matplotlib inline')"
     ],
     "language": "python",
     "metadata": {},
     "outputs": []
    },
    {
     "cell_type": "code",
     "collapsed": false,
     "input": [
      "# Consume:\n",
      "consumer_key = ''\n",
      "consumer_secret = ''\n",
      "\n",
      "# Access:\n",
      "access_key = ''\n",
      "access_secret = ''"
     ],
     "language": "python",
     "metadata": {},
     "outputs": []
    },
    {
     "cell_type": "code",
     "collapsed": false,
     "input": [
      "def get_all_tweets(screen_name):\n",
      "\n",
      "    auth = tweepy.OAuthHandler(consumer_key, consumer_secret)\n",
      "    auth.set_access_token(access_key, access_secret)\n",
      "    api = tweepy.API(auth)\n",
      "\n",
      "    alltweets = []\n",
      "\n",
      "    #make initial request for most recent tweets (200 is the maximum allowed count)\n",
      "    new_tweets = api.user_timeline(screen_name = screen_name,count=200) #200 - max for one iteration\n",
      "    #save most recent tweets\n",
      "    alltweets.extend(new_tweets)\n",
      "    #save the id of the oldest tweet less one\n",
      "    oldest = alltweets[-1].id - 1\n",
      "\n",
      "    #keep grabbing tweets until there are no tweets left to grab\n",
      "    while len(new_tweets) > 0:\n",
      "        print(\"getting tweets before %s\" % (oldest))\n",
      "\n",
      "        #all subsiquent requests use the max_id param to prevent duplicates\n",
      "        new_tweets = api.user_timeline(screen_name = screen_name,count=200,max_id=oldest)\n",
      "\n",
      "        #save most recent tweets\n",
      "        alltweets.extend(new_tweets)\n",
      "\n",
      "        #update the id of the oldest tweet less one\n",
      "        oldest = alltweets[-1].id - 1\n",
      "\n",
      "        print(\"%s tweets downloaded\" % (len(alltweets)))\n",
      "\n",
      "#transform the tweepy tweets into csv-file\n",
      "    outtweets = [tweet.text.encode(\"utf-8\") for tweet in alltweets]\n",
      "    with open(\"realdonaldtrump.txt\", \"w\") as file:\n",
      "        writer = csv.writer(file)\n",
      "        writer.writerow(outtweets)\n",
      "    pass\n",
      "\t\n",
      "if __name__ == '__main__':\n",
      "    get_all_tweets(screen_name='') # add @userID"
     ],
     "language": "python",
     "metadata": {},
     "outputs": []
    }
   ],
   "metadata": {}
  }
 ]
}