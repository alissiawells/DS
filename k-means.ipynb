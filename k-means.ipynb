{
 "metadata": {
  "name": "",
  "signature": "sha256:f59e88057d2a7366c82fb637f91446f2068f5c36d3d4e067513d931262119e02"
 },
 "nbformat": 3,
 "nbformat_minor": 0,
 "worksheets": [
  {
   "cells": [
    {
     "cell_type": "code",
     "collapsed": false,
     "input": [
      "import gensim\n",
      "import nltk\n",
      "import os\n",
      "import codecs\n",
      "from gensim import corpora, models, utils\n",
      "import pymorphy2\n",
      "from nltk.tokenize import word_tokenize\n",
      "import re\n",
      "import pandas as pd\n",
      "import numpy as np\n",
      "from collections import Counter\n",
      "from sklearn.feature_extraction.text import TfidfVectorizer\n",
      "from sklearn.cluster import KMeans"
     ],
     "language": "python",
     "metadata": {},
     "outputs": []
    },
    {
     "cell_type": "code",
     "collapsed": false,
     "input": [
      "m = pymorphy2.MorphAnalyzer()"
     ],
     "language": "python",
     "metadata": {},
     "outputs": []
    },
    {
     "cell_type": "code",
     "collapsed": false,
     "input": [
      "# stopWords = set(line.strip() for line in open('swrussian.txt', 'r'))\n",
      "stopwords = ['a', '\u0431', '\u0432', '\u0433', '\u0434', '\u0435', '\u0451', '\u0436', '\u0437', '\u0438', '\u0439',\n",
      "'\u043a', '\u043b', '\u043c', '\u043d', '\u043e', '\u043f', '\u0440', '\u0441', '\u0442', '\u0443', '\u0444', '\u0445', '\u0446', '\u0447', '\u044c', '\u044a', '\u0448', '\u0449', '\u044d', '\u044e', '\u044f', '\u0442\u0435',\n",
      "'\u043d\u0438\u043c', '\u043c\u043e\u0438\u043c', '\u0431\u0443\u0434\u0435\u043c', '\u043a\u043e\u043c\u044c\u044f', '\u043c\u043e\u0447\u044c', '\u043c\u043e\u044e','\u043c\u043e\u0438\u043c\u0438', '\u0432\u0441\u0451\u043c', '\u0442\u043e\u0431\u043e\u0439', '\u043c\u043e\u0435\u044e', '\u0441\u0432\u043e\u0438\u0445', '\u0442\u043e\u044e',\n",
      "'\u0442\u0435\u0445', '\u0442\u0430\u043a', '\u0432\u0441\u0435\u043c\u0443', '\u043c\u043e\u0436\u0435\u0442', '\u0442\u0430\u043a\u0438\u0445', '\u043d\u0430\u0448\u0443', '\u0438\u0445', '\u043f\u0440\u0438', '\u044d\u0442\u0438\u043c\u0438', '\u0431\u044b\u043b\u0438', '\u043e\u0434\u043d\u043e\u043c', '\u043e\u0434\u0438\u043d', '\u0432\u0441\u0435\u0439', '\u043c\u043e\u0439', '\u0442\u0430',\n",
      "'\u0442\u043e\u043b\u044c\u043a\u043e', '\u0442\u0430\u043a\u0443\u044e', '\u043a\u043e\u0442\u043e\u0440\u044b\u0445', '\u0435\u043c\u0443', '\u0441\u043e\u0431\u043e\u044e', '\u043d\u0430\u0448\u0430', '\u0441\u043e\u0431\u043e\u0439', '\u043c\u043e\u0438\u0445', '\u0447\u0435\u0433\u043e', '\u0441\u0432\u043e\u0435\u044e', '\u0432\u0441\u0451', '\u0438\u0437', '\u0434\u043b\u044f', '\u0435\u0441\u0442',\n",
      "'\u0435\u0449\u0451', '\u043a\u043e\u043c\u0443', '\u043d\u0430\u0448\u0435', '\u044d\u0442\u0443', '\u0441\u0432\u043e\u0435\u043c', '\u0437\u0430', '\u043c\u0435\u043d\u044f', '\u043d\u0430\u043c\u0438', '\u043d\u0430\u0448\u0435\u0439', '\u043d\u0430\u0448\u0435\u044e', '\u044d\u0442\u043e\u0442', '\u043a\u043e\u0442\u043e\u0440\u043e\u043c\u0443', '\u0435\u0441\u043b\u0438', '\u043c\u043d\u0435',\n",
      "'\u043d\u0430\u0448\u0435\u043c', '\u043c\u043e\u0433\u0443\u0442', '\u043e\u043d\u0430', '\u0435\u0433\u043e', '\u0441\u0432\u043e\u0438\u043c\u0438', '\u0435\u0451', '\u0441\u0432\u043e\u0435\u043c\u0443', '\u0441\u0430\u043c\u0438\u043c', '\u043a\u0435\u043c', '\u0438\u043b\u0438', '\u0434\u043e', '\u043d\u0430\u0448\u0435\u043c\u0443', '\u043d\u0430\u0448\u0438\u043c', '\u0432\u0441\u044e', '\u0442\u043e\u043c\u0430\u0445',\n",
      "'\u043e\u0434\u043d\u0443', '\u0441\u0430\u043c\u043e\u0433\u043e', '\u0441\u0432\u043e\u044f', '\u043a\u043e\u0442\u043e\u0440\u044b\u043c', '\u0441\u0432\u043e\u0439', '\u0431\u0443\u0434\u0443', '\u0441\u0432\u043e\u0435\u0439', '\u0442\u0456\u0454\u0457', '\u0441\u0430\u043c', '\u043e\u0442', '\u0435\u0434\u0438\u043c', '\u0432\u0441\u0435', '\u0435\u0439', '\u0442\u0435\u0431\u044f', '\u044d\u0442\u043e',\n",
      "'\u0431\u044b\u043b\u0430', '\u0442\u0435\u0454', '\u043d\u0430\u0448\u0438', '\u0432\u0441\u0435\u044f', '\u043c\u043e\u0436\u0435\u043c', '\u0431\u0443\u0434\u044c\u0442\u0435', '\u0441\u0430\u043c\u0430', '\u043d\u0435\u0451', '\u0431\u0443\u0434\u0435\u0442\u0435', '\u043a\u043e\u0442\u043e\u0440\u043e\u044e', '\u043e\u043d\u0435', '\u0442\u0430\u043a\u0438\u0435', '\u043a\u043e\u0442\u043e\u0440\u0443\u044e', '\u043c\u043e\u0433\u0443',\n",
      "'\u043e\u0434\u043d\u043e\u0439', '\u0441\u0435\u0431\u0435', '\u043c\u043d\u043e\u0439', '\u043d\u0430\u0448\u043e\u044e', '\u0442\u0430\u043a\u0438\u043c', '\u043d\u0430\u0448\u043e\u0457', '\u0442\u0435\u0431\u0435', '\u044d\u0442\u0438', '\u0442\u0443', '\u0434\u0430', '\u043c\u043e\u0433\u043b\u0430', '\u0441\u0430\u043c\u0438', '\u0435\u0434\u044f\u0442', '\u043c\u043e\u044f', '\u0435\u0449\u0435',\n",
      "'\u043d\u0430', '\u043d\u0435\u0435', '\u043d\u0435\u0439', '\u043e\u0434\u043d\u0438\u0445', '\u044d\u0442\u0430', '\u043d\u0430\u0441', '\u043d\u0430\u0448\u0438\u0445', '\u0431\u0443\u0434\u0443\u0442', '\u0442\u0435\u043c\u0438', '\u043c\u043e\u0451', '\u043e\u0434\u043d\u0438', '\u0435\u0441\u0442\u044c', '\u043e\u0434\u043d\u0430', '\u0442\u0430\u043a\u0430\u044f', '\u043e\u0434\u043d\u043e',\n",
      "'\u0441\u0432\u043e\u0438\u043c', '\u0435\u0435', '\u043c\u043e\u0435\u0433\u043e', '\u0432\u0435\u0441\u044c', '\u0442\u0430\u043a\u043e\u0435', '\u043d\u0430\u0448\u0456\u0439', '\u0431\u044b\u0442\u044c', '\u0435\u0448\u044c', '\u043a\u043e\u0442\u043e\u0440\u044b\u043c\u0438', '\u043c\u043e\u0435\u0439', '\u043d\u0451\u043c', '\u044d\u0442\u0438\u043c', '\u0436\u0435', '\u043c\u043e\u0433\u0438', '\u0431\u0443\u0434\u0435\u0448\u044c',\n",
      "'\u0435\u044e', '\u043e\u0434\u043d\u043e\u0433\u043e', '\u0447\u0442\u043e', '\u044d\u0442\u043e\u0439', '\u043d\u0430\u0448\u0435\u0433\u043e', '\u0441\u0432\u043e\u044e', '\u0442\u043e\u043c', '\u0441\u0430\u043c\u0438\u043c\u0438', '\u0435\u043b', '\u043d\u043e', '\u0441\u0430\u043c\u0438\u0445', '\u044d\u0442\u043e\u043c\u0443', '\u043a\u043e\u043c', '\u043e\u0431', '\u043a\u043e\u0442\u043e\u0440\u044b\u0439',\n",
      "'\u043d\u0435\u043c', '\u0441\u0435\u0431\u044f', '\u0441\u0432\u043e\u0451', '\u043c\u043e\u0435\u043c\u0443', '\u043a\u0430\u043a', '\u043d\u0438\u043c\u0438', '\u0432\u0430\u043c\u0438', '\u0442\u0430\u043a\u043e\u0433\u043e', '\u0442\u043e\u0431\u043e\u044e', '\u0441\u0432\u043e\u0435\u0433\u043e', '\u043c\u0435\u043d\u0456', '\u043f\u043e', '\u043e\u043d\u0438', '\u043c\u043e\u0433\u043b\u043e', '\u0441\u0432\u043e\u0438',\n",
      "'\u0443\u0436\u0435', '\u0432\u043e', '\u043c\u043e\u0433\u0438\u0442\u0435', '\u043c\u043e\u0435', '\u0447\u0435\u043c', '\u0442\u0456', '\u0442\u0430\u043a\u043e\u043c', '\u043a\u043e\u0442\u043e\u0440\u044b\u0435', '\u0432\u0441\u0435\u044e', '\u0435\u043c\u044a', '\u043c\u043e\u0436\u0435\u0448\u044c', '\u0431\u044b', '\u043c\u043e\u0433', '\u0432\u0441\u0435\u043c\u0438', '\u0447\u0451\u043c',\n",
      "'\u044d\u0442\u043e\u044e', '\u0442\u043e', '\u0435\u043c', '\u0442\u043e\u043c\u0443', '\u043e\u043d\u043e', '\u0438\u043c', '\u043d\u0430\u0448\u0438\u043c\u0438', '\u0442\u0430\u043a\u043e\u043c\u0443', '\u044d\u0442\u043e\u043c', '\u0441\u0430\u043c\u043e', '\u0432\u043e\u0442', '\u0442\u0456\u0454\u044e', '\u043d\u0435\u044e', '\u0441\u0432\u043e\u0435', '\u043a\u043e\u0442\u043e\u0440\u043e\u043c',\n",
      "'\u043a\u043e\u0433\u0434\u0430', '\u0442\u0430\u043a\u0438\u043c\u0438', '\u0442\u0430\u043a\u043e\u044e', '\u043c\u044b', '\u0438\u043c\u0438', '\u0442\u0456\u0457', '\u043e\u0434\u043d\u043e\u044e', '\u0431\u0443\u0434\u0435\u0442', '\u0432\u0430\u043c', '\u043d\u0430\u0448\u0456\u043c', '\u0442\u0430\u043a\u043e\u0439', '\u0432\u0441\u0435\u043c', '\u043e\u043d', '\u044d\u0442\u0438\u0445', '\u0432\u0441\u0435\u0445',\n",
      "'\u0431\u044b\u043b\u043e', '\u043c\u043e\u0436\u0435\u0442\u0435', '\u0441\u0432\u043e\u0451\u043c', '\u043c\u043e\u0435\u043c', '\u043a\u043e\u0442\u043e\u0440\u0430\u044f', '\u043d\u0430\u0441\u0430', '\u0432\u044b', '\u043d\u0435\u0433\u043e', '\u043e\u0434\u043d\u043e\u043c\u0443', '\u0431\u044b\u043b', '\u0442\u043e\u0433\u043e', '\u0442\u0435\u043c', '\u0442\u043e\u0442', '\u043c\u043e\u0451\u043c', '\u0432\u0441\u0435\u0433\u043e',\n",
      "'\u043d\u0430\u0448\u0456', '\u043c\u043e\u0438', '\u0432\u0441\u044f', '\u043a\u043e\u0442\u043e\u0440\u043e\u0435', '\u043a\u043e\u0442\u043e\u0440\u043e\u0439', '\u043a\u0442\u043e', '\u0442\u044b', '\u043d\u0430\u0448', '\u043a\u043e', '\u0442\u043e\u0439', '\u0431\u0443\u0434\u044c', '\u043d\u0430\u043c', '\u043a\u043e\u0433\u043e', '\u043a\u043e\u0442\u043e\u0440\u043e\u0433\u043e', '\u0441\u0430\u043c\u043e\u043c\u0443',\n",
      "'\u043e\u0434\u043d\u0438\u043c', '\u0432\u0430\u0441', '\u0447\u0442\u043e\u0431\u044b', '\u043c\u043e\u0433\u043b\u0438', '\u0441\u0430\u043c\u043e\u043c', '\u0447\u0435\u043c\u0443', '\u0438\u043c\u044a', '\u043d\u0435\u043c\u0443', '\u0431\u0443\u0434\u0443\u0447\u0438', '\u043d\u0438\u0445', '\u043d\u0435', '\u043e\u0434\u043d\u0438\u043c\u0438', '\u0435\u043b\u0430', '\u044d\u0442\u043e\u0433\u043e', '\u0441\u0430\u043c\u0443',\n",
      "'\u043d\u0435\u0442', '\u043c\u043d\u043e\u044e']\n",
      "stop_words = set(stopwords)"
     ],
     "language": "python",
     "metadata": {},
     "outputs": []
    },
    {
     "cell_type": "code",
     "collapsed": false,
     "input": [
      "def clean(line):\n",
      "     a = re.search('(http[s]?:\\/\\/yandex\\.ru\\/search\\/\\?text=).+(http[s]?)', line)\n",
      "     a = a.group(0)\n",
      "     a = re.sub('(http[s]?:\\/\\/yandex\\.ru\\/search\\/\\?text=)|(&.+)|(http[s]?:\\/\\/.+)|([A-Za-z0-9]+)', ' ', a)\n",
      "     return(a).strip()"
     ],
     "language": "python",
     "metadata": {},
     "outputs": []
    },
    {
     "cell_type": "code",
     "collapsed": false,
     "input": [
      "def lemm(word):\n",
      "    word = re.sub(\"(\\@[A-Za-z0-9]*)|(http[s]?:\\/\\/[A-Za-z0-9]*)|(www\\.[A-Za-z0-9]*)|([\\(\\)=_\\'\\\"\\.,\\-\\/!\\?%$\\:;#&]+)|(\\/\\/t\\.co[A-Za-z0-9]*)|(rusearchtext=)|(client=)|(flag=)\", '', word)\n",
      "    return m.parse(word.lower())[0].normal_form.strip()"
     ],
     "language": "python",
     "metadata": {},
     "outputs": []
    },
    {
     "cell_type": "code",
     "collapsed": false,
     "input": [
      "nameofdoc = '.txt'\n",
      "true_k ="
     ],
     "language": "python",
     "metadata": {},
     "outputs": []
    },
    {
     "cell_type": "code",
     "collapsed": false,
     "input": [
      "with codecs.open(nameofdoc, 'r', encoding='utf-8') as f:\n",
      "    s = f.readlines()\n",
      "\n",
      "i = 1\n",
      "err = []\n",
      "with codecs.open('clean%s' % nameofdoc, 'w', encoding='utf-8') as f:\n",
      "    while i < len(s):\n",
      "        try:\n",
      "            f.write(clean(s[i])+'\\n')\n",
      "        except AttributeError:\n",
      "            err.append(s[i])\n",
      "        i += 1"
     ],
     "language": "python",
     "metadata": {},
     "outputs": []
    },
    {
     "cell_type": "code",
     "collapsed": false,
     "input": [
      "with codecs.open('clean%s' % nameofdoc, 'r', encoding='utf-8') as f: \n",
      "    raw = f.readlines()  \n",
      "print('Number of documents:',len(raw))\n",
      "\n",
      "docs = [[lemm(w).encode('utf-8') for w in word_tokenize(text) if lemm(w).encode('utf-8') not in stopWords] for text in raw]"
     ],
     "language": "python",
     "metadata": {},
     "outputs": []
    },
    {
     "cell_type": "code",
     "collapsed": false,
     "input": [
      "all_words = []\n",
      "for doc in docs:\n",
      "    all_words += doc\n",
      "print('\u0421\u0430\u043c\u044b\u0435 \u043f\u043e\u043f\u0443\u043b\u044f\u0440\u043d\u044b\u0435 \u0441\u043b\u043e\u0432\u0430:')\n",
      "loopa = Counter(all_words).most_common()[:50]\n",
      "for poopa in loopa:\n",
      "    print poopa[0], poopa[1]"
     ],
     "language": "python",
     "metadata": {},
     "outputs": []
    },
    {
     "cell_type": "code",
     "collapsed": false,
     "input": [
      "data_tfidf = []\n",
      "for doc in docs:\n",
      "    data_tfidf.append(' '.join(doc))\n",
      "\n",
      "vectorizer = TfidfVectorizer()\n",
      "tf_idf = vectorizer.fit_transform(data_tfidf)"
     ],
     "language": "python",
     "metadata": {},
     "outputs": []
    },
    {
     "cell_type": "code",
     "collapsed": false,
     "input": [
      "model = KMeans(n_clusters=true_k, init='k-means++', max_iter=100, n_init=1)\n",
      "model.fit(tf_idf)\n",
      " \n",
      "order_centroids = model.cluster_centers_.argsort()[:, ::-1]\n",
      "terms = vectorizer.get_feature_names()\n",
      "for i in range(true_k):\n",
      "    print 'Cluster %d:\\n' % i\n",
      "    for ind in order_centroids[i, :10]:\n",
      "        print ' %s' % terms[ind]\n",
      "    print"
     ],
     "language": "python",
     "metadata": {},
     "outputs": []
    },
    {
     "cell_type": "code",
     "collapsed": false,
     "input": [
      "labels = model.labels_\n",
      "df = pd.DataFrame({'clust': labels, 'text': docs})\n",
      "dff = df.groupby('clust').count()\n",
      "percent = []\n",
      "for i in range(true_k):\n",
      "    a = dff['text'][i] *100 / len(raw)\n",
      "    percent.append(a)\n",
      "dff['percent'] = percent\n",
      "dff"
     ],
     "language": "python",
     "metadata": {},
     "outputs": []
    }
   ],
   "metadata": {}
  }
 ]
}